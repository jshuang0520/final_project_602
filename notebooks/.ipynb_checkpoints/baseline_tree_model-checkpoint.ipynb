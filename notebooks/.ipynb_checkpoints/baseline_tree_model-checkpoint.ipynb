{
 "cells": [
  {
   "cell_type": "code",
   "execution_count": 1,
   "id": "de8ac068-591c-4be1-aac1-ed4acaae06d9",
   "metadata": {},
   "outputs": [
    {
     "name": "stdout",
     "output_type": "stream",
     "text": [
      "/Users/johnson.huang/master_program/UMD/2024_Fall/DATA602/HW/final_project_602\n"
     ]
    }
   ],
   "source": [
    "!pwd"
   ]
  },
  {
   "cell_type": "markdown",
   "id": "9a2319d3-f9e2-48ca-b88d-bd4fa08f3913",
   "metadata": {},
   "source": [
    "# read data"
   ]
  },
  {
   "cell_type": "markdown",
   "id": "e888205e-a079-4fdf-b897-afab520a0bb2",
   "metadata": {},
   "source": [
    "## overview data"
   ]
  },
  {
   "cell_type": "code",
   "execution_count": 59,
   "id": "a1e8fe8e-937a-401c-8701-0bbd4b2909ef",
   "metadata": {},
   "outputs": [
    {
     "name": "stdout",
     "output_type": "stream",
     "text": [
      "original shape: (73, 14)\n"
     ]
    },
    {
     "data": {
      "text/html": [
       "<div>\n",
       "<style scoped>\n",
       "    .dataframe tbody tr th:only-of-type {\n",
       "        vertical-align: middle;\n",
       "    }\n",
       "\n",
       "    .dataframe tbody tr th {\n",
       "        vertical-align: top;\n",
       "    }\n",
       "\n",
       "    .dataframe thead th {\n",
       "        text-align: right;\n",
       "    }\n",
       "</style>\n",
       "<table border=\"1\" class=\"dataframe\">\n",
       "  <thead>\n",
       "    <tr style=\"text-align: right;\">\n",
       "      <th></th>\n",
       "      <th>Trip</th>\n",
       "      <th>Date</th>\n",
       "      <th>Route/Area</th>\n",
       "      <th>Weather</th>\n",
       "      <th>Battery Temperature (Start) [°C]</th>\n",
       "      <th>Battery Temperature (End)</th>\n",
       "      <th>Battery State of Charge (Start)</th>\n",
       "      <th>Battery State of Charge (End)</th>\n",
       "      <th>soc difference</th>\n",
       "      <th>Ambient Temperature (Start) [°C]</th>\n",
       "      <th>Target Cabin Temperature</th>\n",
       "      <th>Distance [km]</th>\n",
       "      <th>Duration [min]</th>\n",
       "      <th>Fan</th>\n",
       "    </tr>\n",
       "  </thead>\n",
       "  <tbody>\n",
       "    <tr>\n",
       "      <th>0</th>\n",
       "      <td>TripA01</td>\n",
       "      <td>2019-06-25_13-21-14</td>\n",
       "      <td>Munich East</td>\n",
       "      <td>sunny</td>\n",
       "      <td>21.0</td>\n",
       "      <td>22.0</td>\n",
       "      <td>0.863</td>\n",
       "      <td>0.803</td>\n",
       "      <td>0.060</td>\n",
       "      <td>25.5</td>\n",
       "      <td>23.0</td>\n",
       "      <td>7.427690</td>\n",
       "      <td>16.82</td>\n",
       "      <td>Automatic, Level 1</td>\n",
       "    </tr>\n",
       "    <tr>\n",
       "      <th>1</th>\n",
       "      <td>TripA02</td>\n",
       "      <td>2019-06-25_14-05-31</td>\n",
       "      <td>Munich East</td>\n",
       "      <td>sunny</td>\n",
       "      <td>23.0</td>\n",
       "      <td>26.0</td>\n",
       "      <td>0.803</td>\n",
       "      <td>0.673</td>\n",
       "      <td>0.130</td>\n",
       "      <td>32.0</td>\n",
       "      <td>23.0</td>\n",
       "      <td>23.509709</td>\n",
       "      <td>23.55</td>\n",
       "      <td>Automatic, Level 1</td>\n",
       "    </tr>\n",
       "    <tr>\n",
       "      <th>2</th>\n",
       "      <td>TripA03</td>\n",
       "      <td>2019-06-28_10-02-15</td>\n",
       "      <td>Munich East</td>\n",
       "      <td>sunny</td>\n",
       "      <td>24.0</td>\n",
       "      <td>25.0</td>\n",
       "      <td>0.835</td>\n",
       "      <td>0.751</td>\n",
       "      <td>0.084</td>\n",
       "      <td>21.5</td>\n",
       "      <td>27.0</td>\n",
       "      <td>12.820846</td>\n",
       "      <td>11.18</td>\n",
       "      <td>Automatic, Level 1</td>\n",
       "    </tr>\n",
       "  </tbody>\n",
       "</table>\n",
       "</div>"
      ],
      "text/plain": [
       "      Trip                 Date   Route/Area Weather  \\\n",
       "0  TripA01  2019-06-25_13-21-14  Munich East   sunny   \n",
       "1  TripA02  2019-06-25_14-05-31  Munich East   sunny   \n",
       "2  TripA03  2019-06-28_10-02-15  Munich East   sunny   \n",
       "\n",
       "   Battery Temperature (Start) [°C]  Battery Temperature (End)  \\\n",
       "0                              21.0                       22.0   \n",
       "1                              23.0                       26.0   \n",
       "2                              24.0                       25.0   \n",
       "\n",
       "   Battery State of Charge (Start)  Battery State of Charge (End)  \\\n",
       "0                            0.863                          0.803   \n",
       "1                            0.803                          0.673   \n",
       "2                            0.835                          0.751   \n",
       "\n",
       "   soc difference  Ambient Temperature (Start) [°C]  Target Cabin Temperature  \\\n",
       "0           0.060                              25.5                      23.0   \n",
       "1           0.130                              32.0                      23.0   \n",
       "2           0.084                              21.5                      27.0   \n",
       "\n",
       "   Distance [km]  Duration [min]                 Fan  \n",
       "0       7.427690           16.82  Automatic, Level 1  \n",
       "1      23.509709           23.55  Automatic, Level 1  \n",
       "2      12.820846           11.18  Automatic, Level 1  "
      ]
     },
     "execution_count": 59,
     "metadata": {},
     "output_type": "execute_result"
    }
   ],
   "source": [
    "import pandas as pd\n",
    "\n",
    "\n",
    "df_overv = pd.read_excel('data/Overview.xlsx', engine='openpyxl')\n",
    "df_overv.rename(columns = {'Unnamed: 8': 'soc difference'}, inplace = True)\n",
    "df_overv = df_overv.drop(['Unnamed: 13', 'Note'], axis=1)\n",
    "print(f'original shape: {df_overv.shape}')\n",
    "df_overv.head(3)"
   ]
  },
  {
   "cell_type": "markdown",
   "id": "ae055a25-cb64-48f2-ae03-1a6bbf43a715",
   "metadata": {},
   "source": [
    "### basic preprocessing"
   ]
  },
  {
   "cell_type": "markdown",
   "id": "fc4b8ff3-9a5a-4198-8e34-bd0373e4ecc4",
   "metadata": {},
   "source": [
    "#### column name"
   ]
  },
  {
   "cell_type": "code",
   "execution_count": 60,
   "id": "bb9acc66-46dc-44d2-acbd-69e36ebd2644",
   "metadata": {},
   "outputs": [],
   "source": [
    "# Create a dictionary to map old column names to new ones\n",
    "column_mapping = {col: col.replace(',', '').replace('[', '').replace(']', '').replace('>', '') for col in df_overv.columns}  # to prevent 'ValueError: feature_names must be string, and may not contain [, ] or <' in xgboost\n",
    "\n",
    "# Rename the columns using the mapping\n",
    "df_overv.rename(columns=column_mapping, inplace=True)"
   ]
  },
  {
   "cell_type": "markdown",
   "id": "40bdf38e-f2fb-41c4-a3aa-9b85d4943cab",
   "metadata": {},
   "source": [
    "#### nan"
   ]
  },
  {
   "cell_type": "code",
   "execution_count": 61,
   "id": "88cb89fc-93e5-480b-9f1a-880f0ec61695",
   "metadata": {},
   "outputs": [
    {
     "name": "stdout",
     "output_type": "stream",
     "text": [
      "after drop nans shape: (70, 14)\n"
     ]
    }
   ],
   "source": [
    "# discard nans\n",
    "df_overv.dropna(how=\"any\", inplace=True)\n",
    "df_overv.reset_index(drop=True, inplace=True)\n",
    "print(f'after drop nans shape: {df_overv.shape}')"
   ]
  },
  {
   "cell_type": "code",
   "execution_count": 62,
   "id": "16e0e2c3-160e-496a-a382-236370d5767d",
   "metadata": {},
   "outputs": [
    {
     "name": "stdout",
     "output_type": "stream",
     "text": [
      "['Trip', 'Date', 'Route/Area', 'Weather', 'Battery Temperature (Start) °C', 'Battery Temperature (End)', 'Battery State of Charge (Start)', 'Battery State of Charge (End)', 'soc difference', 'Ambient Temperature (Start) °C', 'Target Cabin Temperature', 'Distance km', 'Duration min', 'Fan']\n"
     ]
    }
   ],
   "source": [
    "print(list(df_overv.columns))"
   ]
  },
  {
   "cell_type": "code",
   "execution_count": 63,
   "id": "08a10da8-7adf-4ed8-9def-fbe63f520e79",
   "metadata": {},
   "outputs": [
    {
     "name": "stdout",
     "output_type": "stream",
     "text": [
      "<class 'pandas.core.frame.DataFrame'>\n",
      "RangeIndex: 70 entries, 0 to 69\n",
      "Data columns (total 14 columns):\n",
      " #   Column                           Non-Null Count  Dtype  \n",
      "---  ------                           --------------  -----  \n",
      " 0   Trip                             70 non-null     object \n",
      " 1   Date                             70 non-null     object \n",
      " 2   Route/Area                       70 non-null     object \n",
      " 3   Weather                          70 non-null     object \n",
      " 4   Battery Temperature (Start) °C   70 non-null     float64\n",
      " 5   Battery Temperature (End)        70 non-null     float64\n",
      " 6   Battery State of Charge (Start)  70 non-null     float64\n",
      " 7   Battery State of Charge (End)    70 non-null     float64\n",
      " 8   soc difference                   70 non-null     float64\n",
      " 9   Ambient Temperature (Start) °C   70 non-null     float64\n",
      " 10  Target Cabin Temperature         70 non-null     float64\n",
      " 11  Distance km                      70 non-null     float64\n",
      " 12  Duration min                     70 non-null     float64\n",
      " 13  Fan                              70 non-null     object \n",
      "dtypes: float64(9), object(5)\n",
      "memory usage: 7.8+ KB\n"
     ]
    }
   ],
   "source": [
    "df_overv.info()"
   ]
  },
  {
   "cell_type": "markdown",
   "id": "d2cdcdf0-0a61-43e7-b369-22422b9759a5",
   "metadata": {},
   "source": [
    "#### one hot for categorical"
   ]
  },
  {
   "cell_type": "code",
   "execution_count": 64,
   "id": "b93a73e0-9c90-405e-9514-0eba9f986143",
   "metadata": {},
   "outputs": [
    {
     "name": "stdout",
     "output_type": "stream",
     "text": [
      "after one hot - shape: (70, 167)\n",
      "columns: ['Battery Temperature (Start) °C', 'Battery Temperature (End)', 'Battery State of Charge (Start)', 'Battery State of Charge (End)', 'soc difference', 'Ambient Temperature (Start) °C', 'Target Cabin Temperature', 'Distance km', 'Duration min', 'Trip_TripA01', 'Trip_TripA02', 'Trip_TripA03', 'Trip_TripA04', 'Trip_TripA05', 'Trip_TripA06', 'Trip_TripA07', 'Trip_TripA08', 'Trip_TripA09', 'Trip_TripA10', 'Trip_TripA11', 'Trip_TripA12', 'Trip_TripA13', 'Trip_TripA14', 'Trip_TripA15', 'Trip_TripA16', 'Trip_TripA17', 'Trip_TripA18', 'Trip_TripA19', 'Trip_TripA20', 'Trip_TripA21', 'Trip_TripA22', 'Trip_TripA23', 'Trip_TripA24', 'Trip_TripA25', 'Trip_TripA26', 'Trip_TripA27', 'Trip_TripA28', 'Trip_TripA29', 'Trip_TripA30', 'Trip_TripA31', 'Trip_TripA32', 'Trip_TripB01', 'Trip_TripB02', 'Trip_TripB03', 'Trip_TripB04', 'Trip_TripB05', 'Trip_TripB06', 'Trip_TripB07', 'Trip_TripB08', 'Trip_TripB09', 'Trip_TripB10', 'Trip_TripB11', 'Trip_TripB12', 'Trip_TripB13', 'Trip_TripB14', 'Trip_TripB15', 'Trip_TripB16', 'Trip_TripB17', 'Trip_TripB18', 'Trip_TripB19', 'Trip_TripB20', 'Trip_TripB21', 'Trip_TripB22', 'Trip_TripB23', 'Trip_TripB24', 'Trip_TripB25', 'Trip_TripB26', 'Trip_TripB27', 'Trip_TripB28', 'Trip_TripB29', 'Trip_TripB30', 'Trip_TripB31', 'Trip_TripB32', 'Trip_TripB33', 'Trip_TripB34', 'Trip_TripB35', 'Trip_TripB36', 'Trip_TripB37', 'Trip_TripB38', 'Date_2019-06-25_13-21-14', 'Date_2019-06-25_14-05-31', 'Date_2019-06-28_10-02-15', 'Date_2019-06-28_10-13-30', 'Date_2019-06-28_10-20-26', 'Date_2019-07-01_09-05-25', 'Date_2019-07-01_12-59-48', 'Date_2019-07-02_17-36-31', 'Date_2019-07-03_08-05-00', 'Date_2019-07-03_12-16-12', 'Date_2019-07-04_15-09-22', 'Date_2019-07-04_15-51-48', 'Date_2019-07-05_09-02-55', 'Date_2019-07-05_09-18-22', 'Date_2019-07-08_12-19-56', 'Date_2019-07-08_13-17-32', 'Date_2019-07-09_09-37-58', 'Date_2019-07-09_09-49-09', 'Date_2019-07-09_17-48-14', 'Date_2019-07-10_08-07-22', 'Date_2019-07-10_16-40-57', 'Date_2019-07-11_07-48-28', 'Date_2019-07-12_10-41-36', 'Date_2019-07-12_10-59-05', 'Date_2019-07-12_11-08-00', 'Date_2019-07-15_13-08-25', 'Date_2019-07-15_13-45-10', 'Date_2019-07-16_10-31-30', 'Date_2019-07-16_11-10-00', 'Date_2019-07-19_09-34-23', 'Date_2019-07-22_12-56-55', 'Date_2019-12-07_12-35-00', 'Date_2019-12-07_17-49-35', 'Date_2019-12-10_09-35-46', 'Date_2019-12-17_07-21-04', 'Date_2019_12_08_09-38-26', 'Date_2019_12_08_13-47-18', 'Date_2019_12_09_07-58-11', 'Date_2019_12_09_18-16-14', 'Date_2020-01-02_13-45-21', 'Date_2020-01-03_10-50-36', 'Date_2020-01-03_11-36-24', 'Date_2020-01-03_12-16-10', 'Date_2020-01-03_13-23-24', 'Date_2020-01-05_11-08-25', 'Date_2020-01-07_10-02-47', 'Date_2020-01-07_10-33-19', 'Date_2020-01-07_10-58-55', 'Date_2020-01-08_17-43-26', 'Date_2020-01-09_08-29-07', 'Date_2020-01-09_17-21-44', 'Date_2020-01-10_08-07-33', 'Date_2020-01-10_16-42-46', 'Date_2020-01-11_12-52-38', 'Date_2020-01-11_14-29-56', 'Date_2020-01-11_14-55-27', 'Date_2020-01-11_15-24-57', 'Date_2020-01-12_11-12-56', 'Date_2020-01-12_11-37-29', 'Date_2020-01-12_12-33-29', 'Date_2020-01-13_07-53-37', 'Date_2020-01-13_17-31-04', 'Date_2020-01-14_09-47-42', 'Date_2020-01-14_11-44-28', 'Date_2020-01-14_12-55-08', 'Date_2020-01-14_17-59-06', 'Date_2020-01-15_10-43-44', 'Date_2020-01-21_09-15-20', 'Date_2020-02-07_09-32-02', 'Route/Area_FTMRoute', 'Route/Area_FTMRoute (2x)', 'Route/Area_FTMRoute reverse', 'Route/Area_Highway', 'Route/Area_Munich East', 'Route/Area_Munich North', 'Route/Area_Munich North + Fast Charging', 'Route/Area_Munich Northeast', 'Route/Area_Munich South', 'Weather_cloudy', 'Weather_dark', 'Weather_dark, little rainy', 'Weather_rainy', 'Weather_slightly cloudy', 'Weather_sunny', 'Weather_sunrise', 'Weather_sunset', 'Fan_Automatic, Level 1', 'Fan_Automatic, Level 1 (screen defrost for the first 2 min)']\n"
     ]
    },
    {
     "data": {
      "text/html": [
       "<div>\n",
       "<style scoped>\n",
       "    .dataframe tbody tr th:only-of-type {\n",
       "        vertical-align: middle;\n",
       "    }\n",
       "\n",
       "    .dataframe tbody tr th {\n",
       "        vertical-align: top;\n",
       "    }\n",
       "\n",
       "    .dataframe thead th {\n",
       "        text-align: right;\n",
       "    }\n",
       "</style>\n",
       "<table border=\"1\" class=\"dataframe\">\n",
       "  <thead>\n",
       "    <tr style=\"text-align: right;\">\n",
       "      <th></th>\n",
       "      <th>Battery Temperature (Start) °C</th>\n",
       "      <th>Battery Temperature (End)</th>\n",
       "      <th>Battery State of Charge (Start)</th>\n",
       "      <th>Battery State of Charge (End)</th>\n",
       "      <th>soc difference</th>\n",
       "      <th>Ambient Temperature (Start) °C</th>\n",
       "      <th>Target Cabin Temperature</th>\n",
       "      <th>Distance km</th>\n",
       "      <th>Duration min</th>\n",
       "      <th>Trip_TripA01</th>\n",
       "      <th>...</th>\n",
       "      <th>Weather_cloudy</th>\n",
       "      <th>Weather_dark</th>\n",
       "      <th>Weather_dark, little rainy</th>\n",
       "      <th>Weather_rainy</th>\n",
       "      <th>Weather_slightly cloudy</th>\n",
       "      <th>Weather_sunny</th>\n",
       "      <th>Weather_sunrise</th>\n",
       "      <th>Weather_sunset</th>\n",
       "      <th>Fan_Automatic, Level 1</th>\n",
       "      <th>Fan_Automatic, Level 1 (screen defrost for the first 2 min)</th>\n",
       "    </tr>\n",
       "  </thead>\n",
       "  <tbody>\n",
       "    <tr>\n",
       "      <th>0</th>\n",
       "      <td>21.0</td>\n",
       "      <td>22.0</td>\n",
       "      <td>0.863</td>\n",
       "      <td>0.803</td>\n",
       "      <td>0.060</td>\n",
       "      <td>25.5</td>\n",
       "      <td>23.0</td>\n",
       "      <td>7.427690</td>\n",
       "      <td>16.82</td>\n",
       "      <td>1</td>\n",
       "      <td>...</td>\n",
       "      <td>0</td>\n",
       "      <td>0</td>\n",
       "      <td>0</td>\n",
       "      <td>0</td>\n",
       "      <td>0</td>\n",
       "      <td>1</td>\n",
       "      <td>0</td>\n",
       "      <td>0</td>\n",
       "      <td>1</td>\n",
       "      <td>0</td>\n",
       "    </tr>\n",
       "    <tr>\n",
       "      <th>1</th>\n",
       "      <td>23.0</td>\n",
       "      <td>26.0</td>\n",
       "      <td>0.803</td>\n",
       "      <td>0.673</td>\n",
       "      <td>0.130</td>\n",
       "      <td>32.0</td>\n",
       "      <td>23.0</td>\n",
       "      <td>23.509709</td>\n",
       "      <td>23.55</td>\n",
       "      <td>0</td>\n",
       "      <td>...</td>\n",
       "      <td>0</td>\n",
       "      <td>0</td>\n",
       "      <td>0</td>\n",
       "      <td>0</td>\n",
       "      <td>0</td>\n",
       "      <td>1</td>\n",
       "      <td>0</td>\n",
       "      <td>0</td>\n",
       "      <td>1</td>\n",
       "      <td>0</td>\n",
       "    </tr>\n",
       "    <tr>\n",
       "      <th>2</th>\n",
       "      <td>24.0</td>\n",
       "      <td>25.0</td>\n",
       "      <td>0.835</td>\n",
       "      <td>0.751</td>\n",
       "      <td>0.084</td>\n",
       "      <td>21.5</td>\n",
       "      <td>27.0</td>\n",
       "      <td>12.820846</td>\n",
       "      <td>11.18</td>\n",
       "      <td>0</td>\n",
       "      <td>...</td>\n",
       "      <td>0</td>\n",
       "      <td>0</td>\n",
       "      <td>0</td>\n",
       "      <td>0</td>\n",
       "      <td>0</td>\n",
       "      <td>1</td>\n",
       "      <td>0</td>\n",
       "      <td>0</td>\n",
       "      <td>1</td>\n",
       "      <td>0</td>\n",
       "    </tr>\n",
       "  </tbody>\n",
       "</table>\n",
       "<p>3 rows × 167 columns</p>\n",
       "</div>"
      ],
      "text/plain": [
       "   Battery Temperature (Start) °C  Battery Temperature (End)  \\\n",
       "0                            21.0                       22.0   \n",
       "1                            23.0                       26.0   \n",
       "2                            24.0                       25.0   \n",
       "\n",
       "   Battery State of Charge (Start)  Battery State of Charge (End)  \\\n",
       "0                            0.863                          0.803   \n",
       "1                            0.803                          0.673   \n",
       "2                            0.835                          0.751   \n",
       "\n",
       "   soc difference  Ambient Temperature (Start) °C  Target Cabin Temperature  \\\n",
       "0           0.060                            25.5                      23.0   \n",
       "1           0.130                            32.0                      23.0   \n",
       "2           0.084                            21.5                      27.0   \n",
       "\n",
       "   Distance km  Duration min  Trip_TripA01  ...  Weather_cloudy  Weather_dark  \\\n",
       "0     7.427690         16.82             1  ...               0             0   \n",
       "1    23.509709         23.55             0  ...               0             0   \n",
       "2    12.820846         11.18             0  ...               0             0   \n",
       "\n",
       "   Weather_dark, little rainy  Weather_rainy  Weather_slightly cloudy  \\\n",
       "0                           0              0                        0   \n",
       "1                           0              0                        0   \n",
       "2                           0              0                        0   \n",
       "\n",
       "   Weather_sunny  Weather_sunrise  Weather_sunset  Fan_Automatic, Level 1  \\\n",
       "0              1                0               0                       1   \n",
       "1              1                0               0                       1   \n",
       "2              1                0               0                       1   \n",
       "\n",
       "   Fan_Automatic, Level 1 (screen defrost for the first 2 min)  \n",
       "0                                                  0            \n",
       "1                                                  0            \n",
       "2                                                  0            \n",
       "\n",
       "[3 rows x 167 columns]"
      ]
     },
     "execution_count": 64,
     "metadata": {},
     "output_type": "execute_result"
    }
   ],
   "source": [
    "# Identify columns with object (string) dtype\n",
    "object_cols = df_overv.select_dtypes(include=['object']).columns\n",
    "# Apply one-hot encoding to these columns\n",
    "df_overv = pd.get_dummies(df_overv, columns=object_cols)\n",
    "print(f'after one hot - shape: {df_overv.shape}')\n",
    "print(f'columns: {list(df_overv.columns)}')\n",
    "df_overv.head(3)"
   ]
  },
  {
   "cell_type": "markdown",
   "id": "d414c7a3-8bc8-474e-bde2-f45a103e10f5",
   "metadata": {},
   "source": [
    "#### define X, y"
   ]
  },
  {
   "cell_type": "code",
   "execution_count": 65,
   "id": "cf2ad087-e4e9-42a2-b2dd-e4491b4e7aa2",
   "metadata": {},
   "outputs": [],
   "source": [
    "# Assuming 'Sales' is the target variable\n",
    "X_overv = df_overv.drop(['soc difference', 'Battery State of Charge (Start)', 'Battery State of Charge (End)'], axis=1)\n",
    "y_overv = df_overv['soc difference']"
   ]
  },
  {
   "cell_type": "markdown",
   "id": "5b0c0545-59b2-44e1-9706-96f742ff4751",
   "metadata": {},
   "source": [
    "#### train test split"
   ]
  },
  {
   "cell_type": "code",
   "execution_count": 66,
   "id": "fdbac030-31cc-4171-9a23-3c09047f1697",
   "metadata": {},
   "outputs": [],
   "source": [
    "from sklearn.model_selection import train_test_split\n",
    "\n",
    "X_train, X_test, y_train, y_test = train_test_split(\n",
    "    X_overv,\n",
    "    y_overv,\n",
    "    test_size=0.2,\n",
    "    random_state=30, # set random seed for reproducibility\n",
    ")"
   ]
  },
  {
   "cell_type": "markdown",
   "id": "00718e71-2c33-4105-b661-8da294901b3a",
   "metadata": {},
   "source": [
    "### tree based baseline model"
   ]
  },
  {
   "cell_type": "code",
   "execution_count": 67,
   "id": "9b94659a-8164-4492-bd5c-712ff1290812",
   "metadata": {},
   "outputs": [],
   "source": [
    "import numpy as np\n",
    "import pandas as pd\n",
    "import matplotlib.pyplot as plt\n",
    "import xgboost as xgb\n",
    "from sklearn.ensemble import AdaBoostClassifier, BaggingClassifier, RandomForestClassifier\n",
    "from sklearn.tree import DecisionTreeClassifier as DTC\n",
    "from sklearn.tree import plot_tree\n",
    "from sklearn.model_selection import train_test_split\n",
    "from sklearn.metrics import roc_auc_score\n",
    "from sklearn.inspection import permutation_importance"
   ]
  },
  {
   "cell_type": "markdown",
   "id": "50cd1587-afce-4543-b917-6dc2d25b7a46",
   "metadata": {},
   "source": [
    "#### decision tree"
   ]
  },
  {
   "cell_type": "code",
   "execution_count": 68,
   "id": "5f6b3e13-68e6-4c95-bbad-eb571c773a5f",
   "metadata": {},
   "outputs": [
    {
     "name": "stdout",
     "output_type": "stream",
     "text": [
      "Decision Tree RMSE: 0.18497818404187175\n"
     ]
    }
   ],
   "source": [
    "from sklearn.tree import DecisionTreeRegressor\n",
    "from sklearn.model_selection import train_test_split\n",
    "from sklearn.metrics import mean_squared_error\n",
    "import numpy as np\n",
    "\n",
    "# Create and train the model\n",
    "dt_regressor = DecisionTreeRegressor(random_state=42)\n",
    "dt_regressor.fit(X_train, y_train)\n",
    "\n",
    "# Make predictions\n",
    "y_pred = dt_regressor.predict(X_test)\n",
    "\n",
    "# Evaluate the model\n",
    "mse = mean_squared_error(y_test, y_pred)\n",
    "rmse = np.sqrt(mse)\n",
    "print(f\"Decision Tree RMSE: {rmse}\")"
   ]
  },
  {
   "cell_type": "markdown",
   "id": "18b7e405-f393-48e3-8ba7-20ac0fdf96b9",
   "metadata": {},
   "source": [
    "#### random forest"
   ]
  },
  {
   "cell_type": "code",
   "execution_count": 69,
   "id": "14c128d6-dd82-4c1a-b362-71cbf2ef1c89",
   "metadata": {},
   "outputs": [
    {
     "name": "stdout",
     "output_type": "stream",
     "text": [
      "Random Forest RMSE: 0.17240375198933464\n"
     ]
    }
   ],
   "source": [
    "from sklearn.ensemble import RandomForestRegressor\n",
    "\n",
    "# Create and train the model\n",
    "rf_regressor = RandomForestRegressor(n_estimators=100, random_state=30)\n",
    "rf_regressor.fit(X_train, y_train)\n",
    "\n",
    "# Make predictions\n",
    "y_pred = rf_regressor.predict(X_test)\n",
    "\n",
    "# Evaluate the model\n",
    "mse = mean_squared_error(y_test, y_pred)\n",
    "rmse = np.sqrt(mse)\n",
    "print(f\"Random Forest RMSE: {rmse}\")"
   ]
  },
  {
   "cell_type": "markdown",
   "id": "c0951b1f-6807-4505-9915-8a8ab1527414",
   "metadata": {},
   "source": [
    "#### xgboost"
   ]
  },
  {
   "cell_type": "code",
   "execution_count": 70,
   "id": "f12c8906-1d11-4b59-ab5a-4db2bd6a5332",
   "metadata": {},
   "outputs": [
    {
     "name": "stdout",
     "output_type": "stream",
     "text": [
      "XGBoost RMSE: 0.18081997928970778\n"
     ]
    }
   ],
   "source": [
    "import xgboost as xgb\n",
    "\n",
    "# Create DMatrix for XGBoost\n",
    "dtrain = xgb.DMatrix(X_train, label=y_train)\n",
    "dtest = xgb.DMatrix(X_test, label=y_test)\n",
    "\n",
    "# Set parameters\n",
    "params = {\n",
    "    'max_depth': 5,\n",
    "    'eta': 0.3,\n",
    "    'objective': 'reg:squarederror',\n",
    "    'eval_metric': 'rmse'\n",
    "}\n",
    "\n",
    "# Train the model\n",
    "num_round = 100\n",
    "xgb_model = xgb.train(params, dtrain, num_round)\n",
    "\n",
    "# Make predictions\n",
    "y_pred = xgb_model.predict(dtest)\n",
    "\n",
    "# Evaluate the model\n",
    "mse = mean_squared_error(y_test, y_pred)\n",
    "rmse = np.sqrt(mse)\n",
    "print(f\"XGBoost RMSE: {rmse}\")"
   ]
  },
  {
   "cell_type": "code",
   "execution_count": null,
   "id": "0b0cf2f2-4d0d-41c0-ae64-76abe27485fd",
   "metadata": {},
   "outputs": [],
   "source": []
  },
  {
   "cell_type": "markdown",
   "id": "98226925-e747-4e79-89f4-15cdccbcc893",
   "metadata": {},
   "source": [
    "## trip data"
   ]
  },
  {
   "cell_type": "markdown",
   "id": "9a176db9-94f2-4aa7-8379-43020e79e024",
   "metadata": {},
   "source": [
    "### perprocess - merge all files for the first time"
   ]
  },
  {
   "cell_type": "code",
   "execution_count": 10,
   "id": "3c436b77-eb1d-4f0e-9453-e1fe7e9cd29a",
   "metadata": {},
   "outputs": [
    {
     "name": "stdout",
     "output_type": "stream",
     "text": [
      "finished processing: data/TripA27.csv\n",
      "finished processing: data/TripA26.csv\n",
      "finished processing: data/TripA32.csv\n",
      "finished processing: data/TripA18.csv\n",
      "finished processing: data/TripA24.csv\n",
      "finished processing: data/TripA30.csv\n",
      "finished processing: data/TripA31.csv\n",
      "finished processing: data/TripA25.csv\n",
      "finished processing: data/TripA19.csv\n",
      "finished processing: data/TripA21.csv\n",
      "finished processing: data/TripA09.csv\n",
      "finished processing: data/TripA08.csv\n",
      "finished processing: data/TripA20.csv\n",
      "finished processing: data/TripA22.csv\n",
      "finished processing: data/TripA23.csv\n",
      "finished processing: data/TripB26.csv\n",
      "finished processing: data/TripB32.csv\n",
      "finished processing: data/TripB33.csv\n",
      "finished processing: data/TripB27.csv\n",
      "finished processing: data/TripB19.csv\n",
      "finished processing: data/TripB31.csv\n",
      "finished processing: data/TripB25.csv\n",
      "finished processing: data/TripB24.csv\n",
      "finished processing: data/TripB30.csv\n",
      "finished processing: data/TripB18.csv\n",
      "finished processing: data/TripB34.csv\n",
      "finished processing: data/TripB20.csv\n",
      "finished processing: data/TripB08.csv\n",
      "finished processing: data/TripB09.csv\n",
      "finished processing: data/TripB21.csv\n",
      "finished processing: data/TripB35.csv\n",
      "finished processing: data/TripB23.csv\n",
      "finished processing: data/TripB37.csv\n",
      "finished processing: data/TripB36.csv\n",
      "finished processing: data/TripB22.csv\n",
      "finished processing: data/TripB07.csv\n",
      "finished processing: data/TripB13.csv\n",
      "finished processing: data/TripB12.csv\n",
      "finished processing: data/TripB06.csv\n",
      "finished processing: data/TripB38.csv\n",
      "finished processing: data/TripB10.csv\n",
      "finished processing: data/TripB04.csv\n",
      "finished processing: data/TripB05.csv\n",
      "finished processing: data/TripB11.csv\n",
      "finished processing: data/TripB15.csv\n",
      "finished processing: data/TripB01.csv\n",
      "finished processing: data/TripB29.csv\n",
      "finished processing: data/TripB28.csv\n",
      "finished processing: data/TripB14.csv\n",
      "finished processing: data/TripB02.csv\n",
      "finished processing: data/TripB16.csv\n",
      "finished processing: data/TripB17.csv\n",
      "finished processing: data/TripB03.csv\n",
      "finished processing: data/TripA12.csv\n",
      "finished processing: data/TripA06.csv\n",
      "finished processing: data/TripA07.csv\n",
      "finished processing: data/TripA13.csv\n",
      "finished processing: data/TripA05.csv\n",
      "finished processing: data/TripA11.csv\n",
      "finished processing: data/TripA10.csv\n",
      "finished processing: data/TripA04.csv\n",
      "finished processing: data/TripA14.csv\n",
      "finished processing: data/TripA28.csv\n",
      "finished processing: data/TripA29.csv\n",
      "finished processing: data/TripA15.csv\n",
      "finished processing: data/TripA01.csv\n",
      "finished processing: data/TripA17.csv\n",
      "finished processing: data/TripA03.csv\n",
      "finished processing: data/TripA02.csv\n",
      "finished processing: data/TripA16.csv\n"
     ]
    },
    {
     "data": {
      "text/html": [
       "<div>\n",
       "<style scoped>\n",
       "    .dataframe tbody tr th:only-of-type {\n",
       "        vertical-align: middle;\n",
       "    }\n",
       "\n",
       "    .dataframe tbody tr th {\n",
       "        vertical-align: top;\n",
       "    }\n",
       "\n",
       "    .dataframe thead th {\n",
       "        text-align: right;\n",
       "    }\n",
       "</style>\n",
       "<table border=\"1\" class=\"dataframe\">\n",
       "  <thead>\n",
       "    <tr style=\"text-align: right;\">\n",
       "      <th></th>\n",
       "      <th>Time [s]</th>\n",
       "      <th>Velocity [km/h]</th>\n",
       "      <th>Elevation [m]</th>\n",
       "      <th>Throttle [%]</th>\n",
       "      <th>Motor Torque [Nm]</th>\n",
       "      <th>Longitudinal Acceleration [m/s^2]</th>\n",
       "      <th>Regenerative Braking Signal</th>\n",
       "      <th>Battery Voltage [V]</th>\n",
       "      <th>Battery Current [A]</th>\n",
       "      <th>Battery Temperature [°C]</th>\n",
       "      <th>...</th>\n",
       "      <th>Temperature Feetvent Co-Driver [°C]</th>\n",
       "      <th>Temperature Feetvent Driver [°C]</th>\n",
       "      <th>Temperature Head Co-Driver [°C]</th>\n",
       "      <th>Temperature Head Driver [°C]</th>\n",
       "      <th>Temperature Vent right [°C]</th>\n",
       "      <th>Temperature Vent central right [°C]</th>\n",
       "      <th>Temperature Vent central left [°C]</th>\n",
       "      <th>Temperature Vent right [°C]</th>\n",
       "      <th>Velocity [km/h]]]</th>\n",
       "      <th>Unnamed: 23</th>\n",
       "    </tr>\n",
       "  </thead>\n",
       "  <tbody>\n",
       "    <tr>\n",
       "      <th>0</th>\n",
       "      <td>0.0</td>\n",
       "      <td>0.0</td>\n",
       "      <td>521.0</td>\n",
       "      <td>0.0</td>\n",
       "      <td>0.0</td>\n",
       "      <td>-0.10800</td>\n",
       "      <td>0.0</td>\n",
       "      <td>388.1</td>\n",
       "      <td>-1.30000</td>\n",
       "      <td>20.0</td>\n",
       "      <td>...</td>\n",
       "      <td>NaN</td>\n",
       "      <td>NaN</td>\n",
       "      <td>NaN</td>\n",
       "      <td>NaN</td>\n",
       "      <td>NaN</td>\n",
       "      <td>NaN</td>\n",
       "      <td>NaN</td>\n",
       "      <td>NaN</td>\n",
       "      <td>NaN</td>\n",
       "      <td>NaN</td>\n",
       "    </tr>\n",
       "    <tr>\n",
       "      <th>1</th>\n",
       "      <td>0.1</td>\n",
       "      <td>0.0</td>\n",
       "      <td>521.0</td>\n",
       "      <td>0.0</td>\n",
       "      <td>0.0</td>\n",
       "      <td>-0.09862</td>\n",
       "      <td>0.0</td>\n",
       "      <td>388.1</td>\n",
       "      <td>-1.30000</td>\n",
       "      <td>20.0</td>\n",
       "      <td>...</td>\n",
       "      <td>NaN</td>\n",
       "      <td>NaN</td>\n",
       "      <td>NaN</td>\n",
       "      <td>NaN</td>\n",
       "      <td>NaN</td>\n",
       "      <td>NaN</td>\n",
       "      <td>NaN</td>\n",
       "      <td>NaN</td>\n",
       "      <td>NaN</td>\n",
       "      <td>NaN</td>\n",
       "    </tr>\n",
       "    <tr>\n",
       "      <th>2</th>\n",
       "      <td>0.2</td>\n",
       "      <td>0.0</td>\n",
       "      <td>521.0</td>\n",
       "      <td>0.0</td>\n",
       "      <td>0.0</td>\n",
       "      <td>-0.11609</td>\n",
       "      <td>0.0</td>\n",
       "      <td>388.1</td>\n",
       "      <td>-1.29807</td>\n",
       "      <td>20.0</td>\n",
       "      <td>...</td>\n",
       "      <td>NaN</td>\n",
       "      <td>NaN</td>\n",
       "      <td>NaN</td>\n",
       "      <td>NaN</td>\n",
       "      <td>NaN</td>\n",
       "      <td>NaN</td>\n",
       "      <td>NaN</td>\n",
       "      <td>NaN</td>\n",
       "      <td>NaN</td>\n",
       "      <td>NaN</td>\n",
       "    </tr>\n",
       "    <tr>\n",
       "      <th>3</th>\n",
       "      <td>0.3</td>\n",
       "      <td>0.0</td>\n",
       "      <td>521.0</td>\n",
       "      <td>0.0</td>\n",
       "      <td>0.0</td>\n",
       "      <td>-0.12928</td>\n",
       "      <td>0.0</td>\n",
       "      <td>388.1</td>\n",
       "      <td>-1.24808</td>\n",
       "      <td>20.0</td>\n",
       "      <td>...</td>\n",
       "      <td>NaN</td>\n",
       "      <td>NaN</td>\n",
       "      <td>NaN</td>\n",
       "      <td>NaN</td>\n",
       "      <td>NaN</td>\n",
       "      <td>NaN</td>\n",
       "      <td>NaN</td>\n",
       "      <td>NaN</td>\n",
       "      <td>NaN</td>\n",
       "      <td>NaN</td>\n",
       "    </tr>\n",
       "    <tr>\n",
       "      <th>4</th>\n",
       "      <td>0.4</td>\n",
       "      <td>0.0</td>\n",
       "      <td>521.0</td>\n",
       "      <td>0.0</td>\n",
       "      <td>0.0</td>\n",
       "      <td>-0.10800</td>\n",
       "      <td>0.0</td>\n",
       "      <td>388.1</td>\n",
       "      <td>-1.20191</td>\n",
       "      <td>20.0</td>\n",
       "      <td>...</td>\n",
       "      <td>NaN</td>\n",
       "      <td>NaN</td>\n",
       "      <td>NaN</td>\n",
       "      <td>NaN</td>\n",
       "      <td>NaN</td>\n",
       "      <td>NaN</td>\n",
       "      <td>NaN</td>\n",
       "      <td>NaN</td>\n",
       "      <td>NaN</td>\n",
       "      <td>NaN</td>\n",
       "    </tr>\n",
       "  </tbody>\n",
       "</table>\n",
       "<p>5 rows × 50 columns</p>\n",
       "</div>"
      ],
      "text/plain": [
       "   Time [s]  Velocity [km/h]  Elevation [m]  Throttle [%]  Motor Torque [Nm]  \\\n",
       "0       0.0              0.0          521.0           0.0                0.0   \n",
       "1       0.1              0.0          521.0           0.0                0.0   \n",
       "2       0.2              0.0          521.0           0.0                0.0   \n",
       "3       0.3              0.0          521.0           0.0                0.0   \n",
       "4       0.4              0.0          521.0           0.0                0.0   \n",
       "\n",
       "   Longitudinal Acceleration [m/s^2]  Regenerative Braking Signal   \\\n",
       "0                           -0.10800                           0.0   \n",
       "1                           -0.09862                           0.0   \n",
       "2                           -0.11609                           0.0   \n",
       "3                           -0.12928                           0.0   \n",
       "4                           -0.10800                           0.0   \n",
       "\n",
       "   Battery Voltage [V]  Battery Current [A]  Battery Temperature [°C]  ...  \\\n",
       "0                388.1             -1.30000                      20.0  ...   \n",
       "1                388.1             -1.30000                      20.0  ...   \n",
       "2                388.1             -1.29807                      20.0  ...   \n",
       "3                388.1             -1.24808                      20.0  ...   \n",
       "4                388.1             -1.20191                      20.0  ...   \n",
       "\n",
       "   Temperature Feetvent Co-Driver [°C]  Temperature Feetvent Driver [°C]  \\\n",
       "0                                  NaN                               NaN   \n",
       "1                                  NaN                               NaN   \n",
       "2                                  NaN                               NaN   \n",
       "3                                  NaN                               NaN   \n",
       "4                                  NaN                               NaN   \n",
       "\n",
       "   Temperature Head Co-Driver [°C]  Temperature Head Driver [°C]  \\\n",
       "0                              NaN                           NaN   \n",
       "1                              NaN                           NaN   \n",
       "2                              NaN                           NaN   \n",
       "3                              NaN                           NaN   \n",
       "4                              NaN                           NaN   \n",
       "\n",
       "   Temperature Vent right [°C]   Temperature Vent central right [°C]  \\\n",
       "0                           NaN                                  NaN   \n",
       "1                           NaN                                  NaN   \n",
       "2                           NaN                                  NaN   \n",
       "3                           NaN                                  NaN   \n",
       "4                           NaN                                  NaN   \n",
       "\n",
       "   Temperature Vent central left [°C]  Temperature Vent right [°C]  \\\n",
       "0                                 NaN                          NaN   \n",
       "1                                 NaN                          NaN   \n",
       "2                                 NaN                          NaN   \n",
       "3                                 NaN                          NaN   \n",
       "4                                 NaN                          NaN   \n",
       "\n",
       "   Velocity [km/h]]]  Unnamed: 23  \n",
       "0                NaN          NaN  \n",
       "1                NaN          NaN  \n",
       "2                NaN          NaN  \n",
       "3                NaN          NaN  \n",
       "4                NaN          NaN  \n",
       "\n",
       "[5 rows x 50 columns]"
      ]
     },
     "execution_count": 10,
     "metadata": {},
     "output_type": "execute_result"
    }
   ],
   "source": [
    "# Load in the dataset\n",
    "import os\n",
    "import glob\n",
    "import chardet\n",
    "import pandas as pd\n",
    "\n",
    "\n",
    "df_master = pd.DataFrame()\n",
    "for file_name in glob.glob('data/'+'*.csv'):\n",
    "    rawdata = open(file_name, 'rb').read()\n",
    "    result = chardet.detect(rawdata)\n",
    "    charenc = result['encoding']\n",
    "    df_trip = pd.read_csv(file_name, sep = ';',encoding = charenc)\n",
    "    df_master = df_master.append(df_trip)\n",
    "    print(f'finished processing: {file_name}')\n",
    "\n",
    "df_master.head()"
   ]
  },
  {
   "cell_type": "code",
   "execution_count": 11,
   "id": "07e69d99-650c-47d3-83c4-1b07a9dd6eba",
   "metadata": {},
   "outputs": [
    {
     "name": "stdout",
     "output_type": "stream",
     "text": [
      "['Time [s]', 'Velocity [km/h]', 'Elevation [m]', 'Throttle [%]', 'Motor Torque [Nm]', 'Longitudinal Acceleration [m/s^2]', 'Regenerative Braking Signal ', 'Battery Voltage [V]', 'Battery Current [A]', 'Battery Temperature [°C]', 'max. Battery Temperature [°C]', 'SoC [%]', 'displayed SoC [%]', 'min. SoC [%]', 'max. SoC [%)', 'Heating Power CAN [kW]', 'Heating Power LIN [W]', 'Requested Heating Power [W]', 'AirCon Power [kW]', 'Heater Signal', 'Heater Voltage [V]', 'Heater Current [A]', 'Ambient Temperature [°C]', 'Coolant Temperature Heatercore [°C]', 'Requested Coolant Temperature [°C]', 'Coolant Temperature Inlet [°C]', 'Heat Exchanger Temperature [°C]', 'Cabin Temperature Sensor [°C]', 'Ambient Temperature Sensor [°C]', 'Coolant Volume Flow +500 [l/h]', 'Temperature Coolant Heater Inlet [°C]', 'Temperature Coolant Heater Outlet [°C]', 'Temperature Heat Exchanger Outlet [°C]', 'Temperature Defrost lateral left [°C]', 'Temperature Defrost lateral right [°C]', 'Temperature Defrost central [°C]', 'Temperature Defrost central left [°C]', 'Temperature Defrost central right [°C]', 'Temperature Footweel Driver [°C]', 'Temperature Footweel Co-Driver [°C]', 'Temperature Feetvent Co-Driver [°C]', 'Temperature Feetvent Driver [°C]', 'Temperature Head Co-Driver [°C]', 'Temperature Head Driver [°C]', 'Temperature Vent right [°C] ', 'Temperature Vent central right [°C]', 'Temperature Vent central left [°C]', 'Temperature Vent right [°C]']\n"
     ]
    }
   ],
   "source": [
    "# Remove last 2 columns since they are Nan\n",
    "df_master = df_master.iloc[: , :-2]\n",
    "print(list(df_master.columns.values))\n",
    "\n",
    "# # output as a file\n",
    "# df_master.to_csv('data/all_trips.csv', index=False)"
   ]
  },
  {
   "cell_type": "code",
   "execution_count": null,
   "id": "bdb81d1b-16d4-4d6b-86ef-2bd2cd9228d5",
   "metadata": {},
   "outputs": [],
   "source": []
  }
 ],
 "metadata": {
  "kernelspec": {
   "display_name": "Python 3 (ipykernel)",
   "language": "python",
   "name": "python3"
  },
  "language_info": {
   "codemirror_mode": {
    "name": "ipython",
    "version": 3
   },
   "file_extension": ".py",
   "mimetype": "text/x-python",
   "name": "python",
   "nbconvert_exporter": "python",
   "pygments_lexer": "ipython3",
   "version": "3.9.12"
  },
  "toc-autonumbering": true
 },
 "nbformat": 4,
 "nbformat_minor": 5
}
